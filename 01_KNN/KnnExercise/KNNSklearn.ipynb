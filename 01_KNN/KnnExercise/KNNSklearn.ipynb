{
 "cells": [
  {
   "cell_type": "code",
   "execution_count": 1,
   "metadata": {},
   "outputs": [],
   "source": [
    "from typing import Any\n",
    "from typing import Tuple\n",
    "\n",
    "import numpy as np\n",
    "\n",
    "\n",
    "np.random.seed(42)\n",
    "from sklearn import datasets"
   ]
  },
  {
   "cell_type": "markdown",
   "metadata": {},
   "source": [
    "### Dataset preparation"
   ]
  },
  {
   "cell_type": "code",
   "execution_count": 2,
   "metadata": {},
   "outputs": [],
   "source": [
    "iris = datasets.load_iris()"
   ]
  },
  {
   "cell_type": "code",
   "execution_count": 3,
   "metadata": {},
   "outputs": [],
   "source": [
    "x = iris.data[:, 1:3]\n",
    "# x = iris.data[:, :3]\n",
    "# x = iris.data[:, 1:4]\n",
    "# x = iris.data[:, 2:4] # [2, 3]"
   ]
  },
  {
   "cell_type": "code",
   "execution_count": 4,
   "metadata": {},
   "outputs": [],
   "source": [
    "y = iris.target\n",
    "\n",
    "class_names = iris.target_names\n",
    "discription = iris.DESCR"
   ]
  },
  {
   "cell_type": "markdown",
   "metadata": {},
   "source": [
    "### Dataset Split"
   ]
  },
  {
   "cell_type": "code",
   "execution_count": 5,
   "metadata": {
    "scrolled": true
   },
   "outputs": [
    {
     "name": "stdout",
     "output_type": "stream",
     "text": [
      "num_samples: 150\n",
      "num_features: 2\n"
     ]
    }
   ],
   "source": [
    "num_samples = x.shape[0]\n",
    "num_features = x.shape[1]\n",
    "\n",
    "print(f\"num_samples: {num_samples}\")\n",
    "print(f\"num_features: {num_features}\")"
   ]
  },
  {
   "cell_type": "code",
   "execution_count": 6,
   "metadata": {},
   "outputs": [],
   "source": [
    "test_size = num_samples // 3\n",
    "random_idxs = np.random.permutation(num_samples)\n",
    "\n",
    "x_train = x[random_idxs[:-test_size]]\n",
    "y_train = y[random_idxs[:-test_size]]\n",
    "\n",
    "x_test = x[random_idxs[-test_size:]]\n",
    "y_test = y[random_idxs[-test_size:]]"
   ]
  },
  {
   "cell_type": "code",
   "execution_count": 7,
   "metadata": {
    "scrolled": true
   },
   "outputs": [
    {
     "name": "stdout",
     "output_type": "stream",
     "text": [
      "x_train shape:\n",
      "(100, 2)\n",
      "y_train shape:\n",
      "(100,)\n",
      "x_test shape:\n",
      "(50, 2)\n",
      "y_test shape:\n",
      "(50,)\n"
     ]
    }
   ],
   "source": [
    "print(f\"x_train shape:\\n{x_train.shape}\")\n",
    "print(f\"y_train shape:\\n{y_train.shape}\")\n",
    "\n",
    "print(f\"x_test shape:\\n{x_test.shape}\")\n",
    "print(f\"y_test shape:\\n{y_test.shape}\")"
   ]
  },
  {
   "cell_type": "markdown",
   "metadata": {},
   "source": [
    "### KNN Model"
   ]
  },
  {
   "cell_type": "code",
   "execution_count": 8,
   "metadata": {},
   "outputs": [
    {
     "name": "stdout",
     "output_type": "stream",
     "text": [
      "accuracy: 92.0%\n",
      "y_pred:\n",
      "[0 0 0 2 2 0 2 2 0 1 1 1 1 2 0 2 1 2 1 1 1 0 1 1 0 1 2 2 0 1 2 2 0 2 0 2 2\n",
      " 2 1 2 1 1 2 2 0 1 1 0 1 2]\n"
     ]
    }
   ],
   "source": [
    "from sklearn.neighbors import KNeighborsClassifier\n",
    "\n",
    "\n",
    "clf = KNeighborsClassifier(n_neighbors=3)\n",
    "clf.fit(x_train, y_train)\n",
    "\n",
    "accuracy = clf.score(x_test, y_test)\n",
    "print(f\"accuracy: {accuracy*100.0:.4}%\")\n",
    "\n",
    "y_pred = clf.predict(x_test)\n",
    "print(f\"y_pred:\\n{y_pred}\")"
   ]
  },
  {
   "cell_type": "markdown",
   "metadata": {},
   "source": [
    "### Try different hyperparameters"
   ]
  },
  {
   "cell_type": "code",
   "execution_count": 9,
   "metadata": {
    "scrolled": true
   },
   "outputs": [
    {
     "name": "stdout",
     "output_type": "stream",
     "text": [
      "Neighbors: 1  Weight: uniform  Score: 0.9\n",
      "Neighbors: 1  Weight: distance  Score: 0.9\n",
      "Neighbors: 2  Weight: uniform  Score: 0.9\n",
      "Neighbors: 2  Weight: distance  Score: 0.9\n",
      "Neighbors: 3  Weight: uniform  Score: 0.92\n",
      "Neighbors: 3  Weight: distance  Score: 0.92\n",
      "Neighbors: 4  Weight: uniform  Score: 0.94\n",
      "Neighbors: 4  Weight: distance  Score: 0.92\n",
      "Neighbors: 5  Weight: uniform  Score: 0.94\n",
      "Neighbors: 5  Weight: distance  Score: 0.92\n",
      "Neighbors: 6  Weight: uniform  Score: 0.94\n",
      "Neighbors: 6  Weight: distance  Score: 0.92\n",
      "Neighbors: 7  Weight: uniform  Score: 0.94\n",
      "Neighbors: 7  Weight: distance  Score: 0.92\n",
      "Neighbors: 8  Weight: uniform  Score: 0.94\n",
      "Neighbors: 8  Weight: distance  Score: 0.92\n",
      "Neighbors: 9  Weight: uniform  Score: 0.94\n",
      "Neighbors: 9  Weight: distance  Score: 0.92\n",
      "Neighbors: 10  Weight: uniform  Score: 0.96\n",
      "Neighbors: 10  Weight: distance  Score: 0.92\n"
     ]
    }
   ],
   "source": [
    "n_neighbors = [n_neighbor for n_neighbor in range(1, 11)]  # [1, 2, ..., 10]\n",
    "weight_modes = ['uniform', 'distance']\n",
    "\n",
    "# 10 x 2 = 20 Models\n",
    "for n_neighbor in n_neighbors:\n",
    "    for weight_mode in weight_modes:\n",
    "        clf = KNeighborsClassifier(n_neighbors=n_neighbor, weights=weight_mode)\n",
    "        clf.fit(x_train, y_train)\n",
    "        accuracy = clf.score(x_test, y_test)\n",
    "        print(f\"Neighbors: {n_neighbor}  Weight: {weight_mode}  Score: {accuracy:.4}\")"
   ]
  },
  {
   "cell_type": "markdown",
   "metadata": {},
   "source": [
    "### Best KNN Model"
   ]
  },
  {
   "cell_type": "code",
   "execution_count": 10,
   "metadata": {
    "scrolled": true
   },
   "outputs": [
    {
     "name": "stdout",
     "output_type": "stream",
     "text": [
      "accuracy: 94.0%\n",
      "y_pred:\n",
      "[0 0 0 2 2 0 2 2 0 1 1 1 1 2 0 2 1 2 1 1 1 0 1 1 0 1 2 2 0 1 2 2 0 2 0 1 2\n",
      " 2 1 2 1 1 2 2 0 1 1 0 1 2]\n",
      "y_pred_proba:\n",
      "[[1.    0.    0.   ]\n",
      " [1.    0.    0.   ]\n",
      " [1.    0.    0.   ]\n",
      " [0.    0.25  0.75 ]\n",
      " [0.    0.    1.   ]\n",
      " [1.    0.    0.   ]\n",
      " [0.    0.    1.   ]\n",
      " [0.    0.    1.   ]\n",
      " [1.    0.    0.   ]\n",
      " [0.    0.875 0.125]\n",
      " [0.    0.875 0.125]\n",
      " [0.    0.5   0.5  ]\n",
      " [0.    0.75  0.25 ]\n",
      " [0.    0.125 0.875]\n",
      " [1.    0.    0.   ]\n",
      " [0.    0.    1.   ]\n",
      " [0.    1.    0.   ]\n",
      " [0.    0.125 0.875]\n",
      " [0.    1.    0.   ]\n",
      " [0.    1.    0.   ]\n",
      " [0.    0.875 0.125]\n",
      " [1.    0.    0.   ]\n",
      " [0.    0.875 0.125]\n",
      " [0.    1.    0.   ]\n",
      " [1.    0.    0.   ]\n",
      " [0.    1.    0.   ]\n",
      " [0.    0.    1.   ]\n",
      " [0.    0.    1.   ]\n",
      " [1.    0.    0.   ]\n",
      " [0.    1.    0.   ]\n",
      " [0.    0.    1.   ]\n",
      " [0.    0.    1.   ]\n",
      " [1.    0.    0.   ]\n",
      " [0.    0.    1.   ]\n",
      " [1.    0.    0.   ]\n",
      " [0.    0.5   0.5  ]\n",
      " [0.    0.    1.   ]\n",
      " [0.    0.    1.   ]\n",
      " [0.    1.    0.   ]\n",
      " [0.    0.    1.   ]\n",
      " [0.    1.    0.   ]\n",
      " [0.    1.    0.   ]\n",
      " [0.    0.25  0.75 ]\n",
      " [0.    0.125 0.875]\n",
      " [1.    0.    0.   ]\n",
      " [0.    1.    0.   ]\n",
      " [0.    0.875 0.125]\n",
      " [1.    0.    0.   ]\n",
      " [0.    1.    0.   ]\n",
      " [0.    0.    1.   ]]\n"
     ]
    }
   ],
   "source": [
    "clf = KNeighborsClassifier(n_neighbors=8, weights=\"uniform\")\n",
    "clf.fit(x_train, y_train)\n",
    "\n",
    "accuracy = clf.score(x_test, y_test)\n",
    "print(f\"accuracy: {accuracy*100.0:.4}%\")\n",
    "\n",
    "y_pred = clf.predict(x_test)\n",
    "print(f\"y_pred:\\n{y_pred}\")\n",
    "\n",
    "y_pred_proba = clf.predict_proba(x_test)\n",
    "print(f\"y_pred_proba:\\n{y_pred_proba}\")"
   ]
  },
  {
   "cell_type": "markdown",
   "metadata": {},
   "source": [
    "### Decision Border Plot"
   ]
  },
  {
   "cell_type": "code",
   "execution_count": 11,
   "metadata": {},
   "outputs": [],
   "source": [
    "import matplotlib.pyplot as plt\n",
    "from matplotlib.colors import ListedColormap\n",
    "\n",
    "\n",
    "cmap_background = ListedColormap(['#FFAAAA', '#AAAAFF', '#AAFFAA'])\n",
    "cmap_points = ['red', 'blue', 'green']\n",
    "\n",
    "\n",
    "def make_meshgrid(x: np.ndarray, y: np.ndarray) -> Tuple[np.ndarray, np.ndarray]:\n",
    "    x = np.arange(np.min(x) - 1, np.max(x) + 1, 0.01)  # [4.0, 4.01, 4.02, .... 8.0]\n",
    "    y = np.arange(np.min(y) - 1, np.max(y) + 1, 0.01)  # [2.0, 2.01, 2.02, .... 4.5]\n",
    "    xx, yy = np.meshgrid(x, y)\n",
    "    return xx, yy\n",
    "\n",
    "\n",
    "def plot_contours(\n",
    "    ax: plt.Axes, clf: KNeighborsClassifier, xx: np.ndarray, yy: np.ndarray, **params: Any\n",
    ") -> None:\n",
    "    z = clf.predict(np.c_[xx.ravel(), yy.ravel()])\n",
    "    z = np.reshape(z, (xx.shape))\n",
    "    ax.contourf(xx, yy, z, **params)\n",
    "\n",
    "\n",
    "def plot_decision_border(\n",
    "    clf: KNeighborsClassifier,\n",
    "    x_train: np.ndarray,\n",
    "    y_train: np.ndarray,\n",
    "    x_test: np.ndarray,\n",
    "    y_test: np.ndarray,\n",
    ") -> None:\n",
    "    fig, ax = plt.subplots()\n",
    "    X0 = x_train[:, 0]\n",
    "    X1 = x_train[:, 1]\n",
    "    xx, yy = make_meshgrid(X0, X1)\n",
    "    plot_contours(ax, clf, xx, yy, cmap=cmap_background, alpha=0.5)\n",
    "    for idx, point in enumerate(x_train):\n",
    "        plt.scatter(point[0], point[1], color=cmap_points[y_train[idx]], s=20.0, marker=\"o\")\n",
    "    for idx, point in enumerate(x_test):\n",
    "        plt.scatter(point[0], point[1], color=cmap_points[y_test[idx]], s=30.0, marker=\"*\")\n",
    "    plt.show()"
   ]
  },
  {
   "cell_type": "code",
   "execution_count": 12,
   "metadata": {},
   "outputs": [],
   "source": [
    "plot_decision_border(clf, x_train, y_train, x_test, y_test)"
   ]
  }
 ],
 "metadata": {
  "kernelspec": {
   "display_name": "base",
   "language": "python",
   "name": "python3"
  },
  "language_info": {
   "codemirror_mode": {
    "name": "ipython",
    "version": 3
   },
   "file_extension": ".py",
   "mimetype": "text/x-python",
   "name": "python",
   "nbconvert_exporter": "python",
   "pygments_lexer": "ipython3",
   "version": "3.9.7"
  },
  "vscode": {
   "interpreter": {
    "hash": "26eab8343ce5ed02de4098c10e314ebb45ce0ac5e34fea85423d6f141bc9ca67"
   }
  }
 },
 "nbformat": 4,
 "nbformat_minor": 4
}
