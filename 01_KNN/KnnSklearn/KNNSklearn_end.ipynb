{
 "cells": [
  {
   "cell_type": "code",
   "execution_count": 10,
   "metadata": {},
   "outputs": [],
   "source": [
    "import numpy as np\n",
    "np.random.seed(42)\n",
    "from sklearn import datasets"
   ]
  },
  {
   "source": [
    "### Dataset preparation"
   ],
   "cell_type": "markdown",
   "metadata": {}
  },
  {
   "cell_type": "code",
   "execution_count": 11,
   "metadata": {
    "scrolled": false
   },
   "outputs": [
    {
     "output_type": "stream",
     "name": "stdout",
     "text": [
      "(150, 2)\n(150,)\n"
     ]
    }
   ],
   "source": [
    "# Load Dataset with first 2 Features\n",
    "iris = datasets.load_iris()\n",
    "x = iris.data[:, :2]\n",
    "y = iris.target\n",
    "print(x.shape)\n",
    "print(y.shape)\n",
    "\n",
    "# Dataset variables\n",
    "num_samples = x.shape[0]\n",
    "num_features = x.shape[1]\n",
    "num_classes = 3\n",
    "test_size = 20\n",
    "train_size = num_samples - test_size\n",
    "\n",
    "# Split Data in Train and Testset\n",
    "indices = np.random.permutation(num_samples)\n",
    "x_train = x[indices[:-test_size]]\n",
    "y_train = y[indices[:-test_size]]\n",
    "\n",
    "x_test = x[indices[-test_size:]]\n",
    "y_test = y[indices[-test_size:]]"
   ]
  },
  {
   "cell_type": "code",
   "execution_count": 12,
   "metadata": {
    "scrolled": true
   },
   "outputs": [
    {
     "output_type": "stream",
     "name": "stdout",
     "text": [
      "X train shape: (130, 2)\ny train shape: (130,)\nX test shape: (20, 2)\ny test shape: (20,)\n"
     ]
    }
   ],
   "source": [
    "# Training Size\n",
    "print(f\"X train shape: {x_train.shape}\")\n",
    "print(f\"y train shape: {y_train.shape}\")\n",
    "\n",
    "# Testing Size\n",
    "print(f\"X test shape: {x_test.shape}\")\n",
    "print(f\"y test shape: {y_test.shape}\")"
   ]
  },
  {
   "source": [
    "### KNN SKlearn Model"
   ],
   "cell_type": "markdown",
   "metadata": {}
  },
  {
   "cell_type": "code",
   "execution_count": 22,
   "metadata": {
    "scrolled": true
   },
   "outputs": [
    {
     "output_type": "stream",
     "name": "stdout",
     "text": [
      "Neighbors:1\tWeight: uniform \tScore: 0.65\nNeighbors:1\tWeight: distance \tScore: 0.65\nNeighbors:2\tWeight: uniform \tScore: 0.65\nNeighbors:2\tWeight: distance \tScore: 0.65\nNeighbors:3\tWeight: uniform \tScore: 0.7\nNeighbors:3\tWeight: distance \tScore: 0.7\nNeighbors:4\tWeight: uniform \tScore: 0.65\nNeighbors:4\tWeight: distance \tScore: 0.7\nNeighbors:5\tWeight: uniform \tScore: 0.7\nNeighbors:5\tWeight: distance \tScore: 0.7\nNeighbors:6\tWeight: uniform \tScore: 0.7\nNeighbors:6\tWeight: distance \tScore: 0.7\nNeighbors:7\tWeight: uniform \tScore: 0.6\nNeighbors:7\tWeight: distance \tScore: 0.65\nNeighbors:8\tWeight: uniform \tScore: 0.65\nNeighbors:8\tWeight: distance \tScore: 0.65\nNeighbors:9\tWeight: uniform \tScore: 0.7\nNeighbors:9\tWeight: distance \tScore: 0.65\nNeighbors:10\tWeight: uniform \tScore: 0.7\nNeighbors:10\tWeight: distance \tScore: 0.65\n"
     ]
    }
   ],
   "source": [
    "from sklearn.neighbors import KNeighborsClassifier\n",
    "\n",
    "neighbors = [i for i in range(1, 11)] # [1, 2, ...., 10]\n",
    "weights = [\"uniform\", \"distance\"]\n",
    "\n",
    "# 10 x 2 = 20 Modelle\n",
    "for neighbor in neighbors:\n",
    "    for weight in weights:\n",
    "        knn = KNeighborsClassifier(n_neighbors=neighbor, weights=weight)\n",
    "        knn.fit(x_train, y_train)\n",
    "        score = knn.score(x_test, y_test)\n",
    "        print(f\"Neighbors:{neighbor}\\tWeight: {weight} \\tScore: {score}\")"
   ]
  },
  {
   "source": [
    "### Best KNN Setup"
   ],
   "cell_type": "markdown",
   "metadata": {}
  },
  {
   "cell_type": "code",
   "execution_count": 23,
   "metadata": {},
   "outputs": [
    {
     "output_type": "stream",
     "name": "stdout",
     "text": [
      "Predictions vs. Classes:\nPred: [2 2 0 1 0 2 2 2 1 2 1 2 1 1 0 1 1 0 1 2]\nClass: [2 2 0 2 0 1 2 2 1 2 1 1 2 2 0 1 2 0 1 2]\nPrediction Probs:\n[[0.         0.33333333 0.66666667]\n [0.         0.33333333 0.66666667]\n [1.         0.         0.        ]\n [0.         0.66666667 0.33333333]\n [1.         0.         0.        ]\n [0.         0.         1.        ]\n [0.         0.         1.        ]\n [0.         0.33333333 0.66666667]\n [0.         0.66666667 0.33333333]\n [0.         0.33333333 0.66666667]\n [0.         0.66666667 0.33333333]\n [0.         0.33333333 0.66666667]\n [0.         1.         0.        ]\n [0.         0.66666667 0.33333333]\n [1.         0.         0.        ]\n [0.         0.66666667 0.33333333]\n [0.         1.         0.        ]\n [1.         0.         0.        ]\n [0.         0.66666667 0.33333333]\n [0.         0.33333333 0.66666667]]\n"
     ]
    }
   ],
   "source": [
    "best_neighbor = 3\n",
    "best_weight = \"uniform\"\n",
    "\n",
    "knn = KNeighborsClassifier(\n",
    "    n_neighbors=best_neighbor,\n",
    "    weights=best_weight\n",
    ")\n",
    "knn.fit(X=x_train, y=y_train)\n",
    "\n",
    "y_pred = knn.predict(X=x_test)\n",
    "y_pred_prob = knn.predict_proba(X=x_test)\n",
    "\n",
    "print(\"Predictions vs. Classes:\")\n",
    "print(f\"Pred: {y_pred}\")\n",
    "print(f\"Class: {y_test}\")\n",
    "print(f\"Prediction Probs:\\n{y_pred_prob}\")"
   ]
  }
 ],
 "metadata": {
  "kernelspec": {
   "display_name": "Python 3",
   "language": "python",
   "name": "python3"
  },
  "language_info": {
   "codemirror_mode": {
    "name": "ipython",
    "version": 3
   },
   "file_extension": ".py",
   "mimetype": "text/x-python",
   "name": "python",
   "nbconvert_exporter": "python",
   "pygments_lexer": "ipython3",
   "version": "3.8.3-final"
  }
 },
 "nbformat": 4,
 "nbformat_minor": 2
}